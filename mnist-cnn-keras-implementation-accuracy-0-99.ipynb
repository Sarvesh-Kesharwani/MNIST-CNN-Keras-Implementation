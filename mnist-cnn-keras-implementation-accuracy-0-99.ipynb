{
 "cells": [
  {
   "cell_type": "markdown",
   "metadata": {},
   "source": [
    "# MNIST: Introduction to CNN Keras\n",
    "\n",
    "* **1. Introduction**\n",
    "* **2. Data preparation**\n",
    "    * 2.1 Load data\n",
    "    * 2.2 Normalization\n",
    "    * 2.3 Reshape\n",
    "    * 2.4 Label encoding\n",
    "    * 2.5 Split training and valdiation set\n",
    "* **3. Convolution Neural Network**\n",
    "    * 3.1 Define the model\n",
    "    * 3.2 Data augmentation\n",
    "    * 3.3 Model training\n",
    "* **4. Evaluate the model**\n",
    "    * 4.1 Training and validation curves\n",
    "    * 4.2 Confusion matrix\n",
    "* **5. Prediction and submition**\n",
    "    * 5.1 Prediction validation results\n",
    "    * 5.2 Submition\n",
    "* **6. References**\n",
    "* **7. Sklearn Soluation**\n",
    "\n",
    "<hr><br>\n",
    "\n",
    "**NEW IN VERSION 8:**\n",
    "\n",
    "* Adding EarlyStoping callback\n",
    "* ReduceLROnPlateau"
   ]
  },
  {
   "cell_type": "markdown",
   "metadata": {},
   "source": [
    "# 1. Introduction\n",
    "\n",
    "This kernel is your start in deep learning.\n",
    "\n",
    "MNIST (\"Modified National Institute of Standards and Technology\") is the de facto “hello world” dataset of computer vision. Since its release in 1999, this classic dataset of handwritten images has served as the basis for benchmarking classification algorithms. A new machine learning techniques emerge, MNIST remains a reliable resource for researchers and learners alike.  In this competition, your goal is to correctly identify digits from a dataset of tens of thousands of handwritten images. We’ve curated a set of tutorial-style kernels which cover everything from regression to neural networks. We encourage you to experiment with different algorithms to learn first-hand what works well and how techniques compare."
   ]
  },
  {
   "cell_type": "markdown",
   "metadata": {
    "_uuid": "7ed04b1e7a00a7ad31ee98a7d8e55880e6274f29"
   },
   "source": [
    "**Import all Necessary Libraries**"
   ]
  },
  {
   "cell_type": "code",
   "execution_count": 1,
   "metadata": {
    "_uuid": "0f935bddcc5ca02702578e712bf7f396ba7154ef",
    "execution": {
     "iopub.execute_input": "2023-05-21T15:24:50.062433Z",
     "iopub.status.busy": "2023-05-21T15:24:50.062086Z",
     "iopub.status.idle": "2023-05-21T15:24:52.400354Z",
     "shell.execute_reply": "2023-05-21T15:24:52.399454Z",
     "shell.execute_reply.started": "2023-05-21T15:24:50.062378Z"
    }
   },
   "outputs": [
    {
     "name": "stderr",
     "output_type": "stream",
     "text": [
      "Using TensorFlow backend.\n"
     ]
    }
   ],
   "source": [
    "import pandas as pd\n",
    "import numpy as np\n",
    "\n",
    "import matplotlib.pyplot as plt\n",
    "import seaborn as sns\n",
    "\n",
    "from sklearn.model_selection import train_test_split\n",
    "from sklearn.metrics import confusion_matrix\n",
    "\n",
    "import keras\n",
    "from keras.models import Sequential\n",
    "from keras.layers import Conv2D, Lambda, MaxPooling2D # convolution layers\n",
    "from keras.layers import Dense, Dropout, Flatten # core layers\n",
    "from keras.layers.normalization import BatchNormalization\n",
    "\n",
    "from keras.preprocessing.image import ImageDataGenerator\n",
    "\n",
    "from keras.utils.np_utils import to_categorical\n",
    "\n",
    "#from keras.datasets import mnist"
   ]
  },
  {
   "cell_type": "code",
   "execution_count": 2,
   "metadata": {
    "execution": {
     "iopub.execute_input": "2023-05-21T15:24:58.769918Z",
     "iopub.status.busy": "2023-05-21T15:24:58.769588Z",
     "iopub.status.idle": "2023-05-21T15:24:58.775913Z",
     "shell.execute_reply": "2023-05-21T15:24:58.775039Z",
     "shell.execute_reply.started": "2023-05-21T15:24:58.769862Z"
    }
   },
   "outputs": [
    {
     "name": "stdout",
     "output_type": "stream",
     "text": [
      "['sample_submission.csv', 'train.csv', 'test.csv']\n"
     ]
    }
   ],
   "source": [
    "import os\n",
    "print(os.listdir('../input'))"
   ]
  },
  {
   "cell_type": "markdown",
   "metadata": {
    "_uuid": "f94870f1682c45b0e4ea378d287302656af3cf8e"
   },
   "source": [
    "# 2. Data preparation\n",
    "## 2.1 Load data"
   ]
  },
  {
   "cell_type": "code",
   "execution_count": 3,
   "metadata": {
    "execution": {
     "iopub.execute_input": "2023-05-21T15:25:57.007387Z",
     "iopub.status.busy": "2023-05-21T15:25:57.007063Z",
     "iopub.status.idle": "2023-05-21T15:26:02.313603Z",
     "shell.execute_reply": "2023-05-21T15:26:02.312719Z",
     "shell.execute_reply.started": "2023-05-21T15:25:57.007332Z"
    }
   },
   "outputs": [
    {
     "name": "stdout",
     "output_type": "stream",
     "text": [
      "Data are Ready!!\n"
     ]
    }
   ],
   "source": [
    "train = pd.read_csv('../input/train.csv')\n",
    "test = pd.read_csv('../input/test.csv')\n",
    "sub = pd.read_csv('../input/sample_submission.csv')\n",
    "print(\"Data are Ready!!\")"
   ]
  },
  {
   "cell_type": "code",
   "execution_count": 4,
   "metadata": {
    "execution": {
     "iopub.execute_input": "2023-05-21T15:26:19.619276Z",
     "iopub.status.busy": "2023-05-21T15:26:19.618920Z",
     "iopub.status.idle": "2023-05-21T15:26:19.624254Z",
     "shell.execute_reply": "2023-05-21T15:26:19.623213Z",
     "shell.execute_reply.started": "2023-05-21T15:26:19.619220Z"
    }
   },
   "outputs": [
    {
     "name": "stdout",
     "output_type": "stream",
     "text": [
      "Training data size is (42000, 785)\n",
      "Testing data size is (28000, 784)\n"
     ]
    }
   ],
   "source": [
    "print(f\"Training data size is {train.shape}\\nTesting data size is {test.shape}\")"
   ]
  },
  {
   "cell_type": "markdown",
   "metadata": {},
   "source": [
    "**Set data features and labels**"
   ]
  },
  {
   "cell_type": "code",
   "execution_count": 5,
   "metadata": {
    "execution": {
     "iopub.execute_input": "2023-05-21T15:26:31.976486Z",
     "iopub.status.busy": "2023-05-21T15:26:31.976158Z",
     "iopub.status.idle": "2023-05-21T15:26:32.178758Z",
     "shell.execute_reply": "2023-05-21T15:26:32.177755Z",
     "shell.execute_reply.started": "2023-05-21T15:26:31.976432Z"
    }
   },
   "outputs": [],
   "source": [
    "X = train.drop(['label'], 1).values\n",
    "y = train['label'].values"
   ]
  },
  {
   "cell_type": "markdown",
   "metadata": {},
   "source": [
    "## 2.2 Normalization"
   ]
  },
  {
   "cell_type": "markdown",
   "metadata": {},
   "source": [
    "We perform a grayscale normalization to reduce the effect of illumination's differences. \n",
    "\n",
    "Moreover the CNN converg faster on [0..1] data than on [0..255]."
   ]
  },
  {
   "cell_type": "code",
   "execution_count": 6,
   "metadata": {
    "execution": {
     "iopub.execute_input": "2023-05-21T15:26:45.430524Z",
     "iopub.status.busy": "2023-05-21T15:26:45.430184Z",
     "iopub.status.idle": "2023-05-21T15:26:45.688886Z",
     "shell.execute_reply": "2023-05-21T15:26:45.687957Z",
     "shell.execute_reply.started": "2023-05-21T15:26:45.430468Z"
    }
   },
   "outputs": [],
   "source": [
    "X = X / 255.0"
   ]
  },
  {
   "cell_type": "markdown",
   "metadata": {},
   "source": [
    "## 2.3 Reshape"
   ]
  },
  {
   "cell_type": "code",
   "execution_count": 7,
   "metadata": {
    "execution": {
     "iopub.execute_input": "2023-05-21T12:27:55.915924Z",
     "iopub.status.busy": "2023-05-21T12:27:55.915419Z",
     "iopub.status.idle": "2023-05-21T12:27:55.921130Z",
     "shell.execute_reply": "2023-05-21T12:27:55.919876Z",
     "shell.execute_reply.started": "2023-05-21T12:27:55.915712Z"
    }
   },
   "outputs": [],
   "source": [
    "# Reshape image in 3 dimensions (height = 28px, width = 28px , canal = 1)\n",
    "# canal = 1 => For gray scale\n",
    "X = X.reshape(-1,28,28,1)"
   ]
  },
  {
   "cell_type": "markdown",
   "metadata": {},
   "source": [
    "## 2.4 Label encoding"
   ]
  },
  {
   "cell_type": "markdown",
   "metadata": {},
   "source": [
    "**One-Hot Encoding**"
   ]
  },
  {
   "cell_type": "code",
   "execution_count": 8,
   "metadata": {
    "execution": {
     "iopub.execute_input": "2023-05-21T12:27:55.923134Z",
     "iopub.status.busy": "2023-05-21T12:27:55.922830Z",
     "iopub.status.idle": "2023-05-21T12:27:55.934424Z",
     "shell.execute_reply": "2023-05-21T12:27:55.933483Z",
     "shell.execute_reply.started": "2023-05-21T12:27:55.923074Z"
    }
   },
   "outputs": [
    {
     "name": "stdout",
     "output_type": "stream",
     "text": [
      "Label size (42000, 10)\n"
     ]
    }
   ],
   "source": [
    "# Encode labels to one hot vectors (ex : 2 -> [0,0,1,0,0,0,0,0,0,0])\n",
    "y = to_categorical(y)\n",
    "\n",
    "print(f\"Label size {y.shape}\")"
   ]
  },
  {
   "cell_type": "markdown",
   "metadata": {},
   "source": [
    "Labels are 10 digits numbers from 0 to 9. We need to encode these lables to one hot vectors (ex : 2 -> [0,0,1,0,0,0,0,0,0,0])."
   ]
  },
  {
   "cell_type": "markdown",
   "metadata": {},
   "source": [
    "## 2.5 Split training and valdiation set"
   ]
  },
  {
   "cell_type": "code",
   "execution_count": 9,
   "metadata": {
    "execution": {
     "iopub.execute_input": "2023-05-21T12:27:55.936776Z",
     "iopub.status.busy": "2023-05-21T12:27:55.936171Z",
     "iopub.status.idle": "2023-05-21T12:27:56.595200Z",
     "shell.execute_reply": "2023-05-21T12:27:56.594416Z",
     "shell.execute_reply.started": "2023-05-21T12:27:55.936480Z"
    }
   },
   "outputs": [],
   "source": [
    "# Split the train and the validation set for the fitting\n",
    "X_train, X_test, y_train, y_test = train_test_split(X, y, test_size=0.1, random_state=0)"
   ]
  },
  {
   "cell_type": "code",
   "execution_count": 10,
   "metadata": {
    "execution": {
     "iopub.execute_input": "2023-05-21T12:27:56.596857Z",
     "iopub.status.busy": "2023-05-21T12:27:56.596540Z",
     "iopub.status.idle": "2023-05-21T12:27:56.605276Z",
     "shell.execute_reply": "2023-05-21T12:27:56.604417Z",
     "shell.execute_reply.started": "2023-05-21T12:27:56.596807Z"
    }
   },
   "outputs": [
    {
     "data": {
      "text/plain": [
       "((37800, 28, 28, 1), (4200, 28, 28, 1), (37800, 10), (4200, 10))"
      ]
     },
     "execution_count": 10,
     "metadata": {},
     "output_type": "execute_result"
    }
   ],
   "source": [
    "X_train.shape, X_test.shape, y_train.shape, y_test.shape"
   ]
  },
  {
   "cell_type": "markdown",
   "metadata": {},
   "source": [
    "I choosed to split the train set in two parts : a small fraction (10%) became the validation set which the model is evaluated and the rest (90%) is used to train the model."
   ]
  },
  {
   "cell_type": "markdown",
   "metadata": {
    "_uuid": "d9f73cd8890cc89d03837ef47210b27b94b156dc"
   },
   "source": [
    "**Data Visualization**"
   ]
  },
  {
   "cell_type": "code",
   "execution_count": 11,
   "metadata": {
    "_uuid": "d00d9b96668d11a33c272b2b64cbb4397dcbba89",
    "execution": {
     "iopub.execute_input": "2023-05-21T12:27:56.607269Z",
     "iopub.status.busy": "2023-05-21T12:27:56.606730Z",
     "iopub.status.idle": "2023-05-21T12:27:57.592382Z",
     "shell.execute_reply": "2023-05-21T12:27:57.591539Z",
     "shell.execute_reply.started": "2023-05-21T12:27:56.607215Z"
    },
    "scrolled": true
   },
   "outputs": [
    {
     "data": {
      "image/png": "[encoded data removed]",
      "text/plain": [
       "<Figure size 1440x720 with 4 Axes>"
      ]
     },
     "metadata": {
      "needs_background": "light"
     },
     "output_type": "display_data"
    }
   ],
   "source": [
    "X_train__ = X_train.reshape(X_train.shape[0], 28, 28)\n",
    "\n",
    "fig, axis = plt.subplots(1, 4, figsize=(20, 10))\n",
    "for i, ax in enumerate(axis.flat):\n",
    "    ax.imshow(X_train__[i], cmap='binary')\n",
    "    digit = y_train[i].argmax()\n",
    "    ax.set(title = f\"Real Number is {digit}\");"
   ]
  },
  {
   "cell_type": "markdown",
   "metadata": {
    "_uuid": "a4f73e65842423bae7cfce945cd4dc0e367c180a"
   },
   "source": [
    "**Normalization**"
   ]
  },
  {
   "cell_type": "code",
   "execution_count": 12,
   "metadata": {
    "_uuid": "82bddf135bfad1d3f91b52cd0cadb62e55db964b",
    "execution": {
     "iopub.execute_input": "2023-05-21T12:27:57.594220Z",
     "iopub.status.busy": "2023-05-21T12:27:57.593726Z",
     "iopub.status.idle": "2023-05-21T12:27:57.874156Z",
     "shell.execute_reply": "2023-05-21T12:27:57.873199Z",
     "shell.execute_reply.started": "2023-05-21T12:27:57.594167Z"
    }
   },
   "outputs": [],
   "source": [
    "mean = np.mean(X_train)\n",
    "std = np.std(X_train)\n",
    "\n",
    "def standardize(x):\n",
    "    return (x-mean)/std"
   ]
  },
  {
   "cell_type": "markdown",
   "metadata": {},
   "source": [
    "# 3. CNN\n",
    "## 3.1 Define the model"
   ]
  },
  {
   "cell_type": "markdown",
   "metadata": {},
   "source": [
    "I used the Keras Sequential API, where you have just to add one layer at a time, starting from the input.\n",
    "\n",
    "The first is the convolutional (Conv2D) layer. It is like a set of learnable filters. I choosed to set 32 filters for the two firsts conv2D layers and 64 filters for the two second layers and 128 filters for two third layers and 256 for the last ones. Each filter transforms a part of the image (defined by the kernel size) using the kernel filter. The kernel filter matrix is applied on the whole image. Filters can be seen as a transformation of the image.\n",
    "\n",
    "The CNN can isolate features that are useful everywhere from these transformed images (feature maps).\n",
    "\n",
    "The second important layer in CNN is the pooling (MaxPool2D) layer. This layer simply acts as a downsampling filter. It looks at the 2 neighboring pixels and picks the maximal value. These are used to reduce computational cost, and to some extent also reduce overfitting. We have to choose the pooling size (i.e the area size pooled each time) more the pooling dimension is high, more the downsampling is important. \n",
    "\n",
    "Combining convolutional and pooling layers, CNN are able to combine local features and learn more global features of the image.\n",
    "\n",
    "'relu' is the rectifier (activation function max(0,x). The rectifier activation function is used to add non linearity to the network. \n",
    "\n",
    "The Flatten layer is use to convert the final feature maps into a one single 1D vector. This flattening step is needed so that you can make use of fully connected layers after some convolutional/maxpool layers. It combines all the found local features of the previous convolutional layers.\n",
    "\n",
    "In the end i used the features in two fully-connected (Dense) layers which is just artificial an neural networks (ANN) classifier. In the last layer(Dense(10,activation=\"softmax\")) the net outputs distribution of probability of each class."
   ]
  },
  {
   "cell_type": "markdown",
   "metadata": {
    "_uuid": "57904be2d2935cece025811c128ca6738cf86800"
   },
   "source": [
    "**Model Definition**"
   ]
  },
  {
   "cell_type": "code",
   "execution_count": 13,
   "metadata": {
    "_uuid": "e935c979b0715a68bc8739e6a31f5d9a8189a750",
    "execution": {
     "iopub.execute_input": "2023-05-21T12:27:57.877342Z",
     "iopub.status.busy": "2023-05-21T12:27:57.876816Z",
     "iopub.status.idle": "2023-05-21T12:28:00.136367Z",
     "shell.execute_reply": "2023-05-21T12:28:00.135598Z",
     "shell.execute_reply.started": "2023-05-21T12:27:57.877283Z"
    }
   },
   "outputs": [],
   "source": [
    "model=Sequential()\n",
    "\n",
    "#model.add(Lambda(standardize,input_shape=(28,28,1)))    \n",
    "model.add(Conv2D(filters=64, kernel_size = (3,3), activation=\"relu\", input_shape=(28,28,1)))\n",
    "model.add(Conv2D(filters=64, kernel_size = (3,3), activation=\"relu\"))\n",
    "model.add(MaxPooling2D(pool_size=(2,2)))\n",
    "model.add(BatchNormalization())\n",
    "\n",
    "model.add(Conv2D(filters=128, kernel_size = (3,3), activation=\"relu\"))\n",
    "model.add(Conv2D(filters=128, kernel_size = (3,3), activation=\"relu\"))\n",
    "model.add(MaxPooling2D(pool_size=(2,2)))\n",
    "model.add(BatchNormalization())    \n",
    "\n",
    "model.add(Conv2D(filters=256, kernel_size = (3,3), activation=\"relu\"))\n",
    "model.add(MaxPooling2D(pool_size=(2,2)))\n",
    "model.add(BatchNormalization())\n",
    "    \n",
    "model.add(Flatten())\n",
    "model.add(Dense(512,activation=\"relu\"))\n",
    "    \n",
    "model.add(Dense(10,activation=\"softmax\"))\n",
    "    \n",
    "model.compile(loss=\"categorical_crossentropy\", optimizer=\"adam\", metrics=[\"accuracy\"])"
   ]
  },
  {
   "cell_type": "code",
   "execution_count": 14,
   "metadata": {
    "execution": {
     "iopub.execute_input": "2023-05-21T12:28:00.139264Z",
     "iopub.status.busy": "2023-05-21T12:28:00.138720Z",
     "iopub.status.idle": "2023-05-21T12:28:00.152127Z",
     "shell.execute_reply": "2023-05-21T12:28:00.149462Z",
     "shell.execute_reply.started": "2023-05-21T12:28:00.139202Z"
    }
   },
   "outputs": [
    {
     "name": "stdout",
     "output_type": "stream",
     "text": [
      "_________________________________________________________________\n",
      "Layer (type)                 Output Shape              Param #   \n",
      "=================================================================\n",
      "conv2d_1 (Conv2D)            (None, 26, 26, 64)        640       \n",
      "_________________________________________________________________\n",
      "conv2d_2 (Conv2D)            (None, 24, 24, 64)        36928     \n",
      "_________________________________________________________________\n",
      "max_pooling2d_1 (MaxPooling2 (None, 12, 12, 64)        0         \n",
      "_________________________________________________________________\n",
      "batch_normalization_1 (Batch (None, 12, 12, 64)        256       \n",
      "_________________________________________________________________\n",
      "conv2d_3 (Conv2D)            (None, 10, 10, 128)       73856     \n",
      "_________________________________________________________________\n",
      "conv2d_4 (Conv2D)            (None, 8, 8, 128)         147584    \n",
      "_________________________________________________________________\n",
      "max_pooling2d_2 (MaxPooling2 (None, 4, 4, 128)         0         \n",
      "_________________________________________________________________\n",
      "batch_normalization_2 (Batch (None, 4, 4, 128)         512       \n",
      "_________________________________________________________________\n",
      "conv2d_5 (Conv2D)            (None, 2, 2, 256)         295168    \n",
      "_________________________________________________________________\n",
      "max_pooling2d_3 (MaxPooling2 (None, 1, 1, 256)         0         \n",
      "_________________________________________________________________\n",
      "batch_normalization_3 (Batch (None, 1, 1, 256)         1024      \n",
      "_________________________________________________________________\n",
      "flatten_1 (Flatten)          (None, 256)               0         \n",
      "_________________________________________________________________\n",
      "dense_1 (Dense)              (None, 512)               131584    \n",
      "_________________________________________________________________\n",
      "dense_2 (Dense)              (None, 10)                5130      \n",
      "=================================================================\n",
      "Total params: 692,682\n",
      "Trainable params: 691,786\n",
      "Non-trainable params: 896\n",
      "_________________________________________________________________\n"
     ]
    }
   ],
   "source": [
    "model.summary()"
   ]
  },
  {
   "cell_type": "markdown",
   "metadata": {},
   "source": [
    "## 3.2 Data augmentation"
   ]
  },
  {
   "cell_type": "markdown",
   "metadata": {},
   "source": [
    "In order to avoid overfitting problem, we need to expand artificially our handwritten digit dataset. We can make your existing dataset even larger. The idea is to alter the training data with small transformations to reproduce the variations occuring when someone is writing a digit.\n",
    "\n",
    "For example, the number is not centered \n",
    "The scale is not the same (some who write with big/small numbers)\n",
    "The image is rotated...\n",
    "\n",
    "Approaches that alter the training data in ways that change the array representation while keeping the label the same are known as data augmentation techniques. Some popular augmentations people use are grayscales, horizontal flips, vertical flips, random crops, color jitters, translations, rotations, and much more. \n",
    "\n",
    "By applying just a couple of these transformations to our training data, we can easily double or triple the number of training examples and create a very robust model.\n",
    "\n",
    "The improvement is important : \n",
    "   - Without data augmentation i obtained an accuracy of 98.114%\n",
    "   - With data augmentation i achieved 99.67% of accuracy"
   ]
  },
  {
   "cell_type": "code",
   "execution_count": 15,
   "metadata": {
    "execution": {
     "iopub.execute_input": "2023-05-21T12:28:00.154322Z",
     "iopub.status.busy": "2023-05-21T12:28:00.154045Z",
     "iopub.status.idle": "2023-05-21T12:28:00.272676Z",
     "shell.execute_reply": "2023-05-21T12:28:00.271896Z",
     "shell.execute_reply.started": "2023-05-21T12:28:00.154274Z"
    }
   },
   "outputs": [],
   "source": [
    "# With data augmentation to prevent overfitting\n",
    "\n",
    "datagen = ImageDataGenerator(\n",
    "        featurewise_center=False,  # set input mean to 0 over the dataset\n",
    "        samplewise_center=False,  # set each sample mean to 0\n",
    "        featurewise_std_normalization=False,  # divide inputs by std of the dataset\n",
    "        samplewise_std_normalization=False,  # divide each input by its std\n",
    "        zca_whitening=False,  # apply ZCA whitening\n",
    "        rotation_range=15,  # randomly rotate images in the range (degrees, 0 to 180)\n",
    "        zoom_range = 0.01, # Randomly zoom image \n",
    "        width_shift_range=0.1,  # randomly shift images horizontally (fraction of total width)\n",
    "        height_shift_range=0.1,  # randomly shift images vertically (fraction of total height)\n",
    "        horizontal_flip=False,  # randomly flip images\n",
    "        vertical_flip=False)  # randomly flip images\n",
    "\n",
    "\n",
    "#datagen.fit(X_train)\n",
    "train_gen = datagen.flow(X_train, y_train, batch_size=128)\n",
    "test_gen = datagen.flow(X_test, y_test, batch_size=128)"
   ]
  },
  {
   "cell_type": "markdown",
   "metadata": {},
   "source": [
    "For the data augmentation, i choosed to :\n",
    "   - Randomly rotate some training images by 10 degrees\n",
    "   - Randomly  Zoom by 10% some training images\n",
    "   - Randomly shift images horizontally by 10% of the width\n",
    "   - Randomly shift images vertically by 10% of the height\n",
    "   \n",
    "**I did not apply a vertical_flip nor horizontal_flip since it could have lead to misclassify symetrical numbers such as 6 and 9.**\n",
    "\n",
    "Once our model is ready, we fit the training dataset ."
   ]
  },
  {
   "cell_type": "markdown",
   "metadata": {
    "_uuid": "5a9a1f37ef33b24887f97e7992b7d24567602eb8"
   },
   "source": [
    "## 3.3 Model training"
   ]
  },
  {
   "cell_type": "code",
   "execution_count": 16,
   "metadata": {
    "execution": {
     "iopub.execute_input": "2023-05-21T12:28:00.276699Z",
     "iopub.status.busy": "2023-05-21T12:28:00.276437Z",
     "iopub.status.idle": "2023-05-21T12:28:00.282732Z",
     "shell.execute_reply": "2023-05-21T12:28:00.281789Z",
     "shell.execute_reply.started": "2023-05-21T12:28:00.276649Z"
    }
   },
   "outputs": [],
   "source": [
    "# This make accuarcy 0.998\n",
    "#model.fit(X, y, batch_size=batch_size, validation_split=0.2, epochs=10)"
   ]
  },
  {
   "cell_type": "markdown",
   "metadata": {},
   "source": [
    "### Drive training phase\n",
    "**EarlyStoping**: Stop training when a monitored metric has stopped improving.\n",
    "\n",
    "**ReduceLROnPlateau**: Reduce learning rate when a metric has stopped improving."
   ]
  },
  {
   "cell_type": "code",
   "execution_count": 17,
   "metadata": {
    "execution": {
     "iopub.execute_input": "2023-05-21T12:28:00.284788Z",
     "iopub.status.busy": "2023-05-21T12:28:00.284295Z",
     "iopub.status.idle": "2023-05-21T12:28:00.293567Z",
     "shell.execute_reply": "2023-05-21T12:28:00.292417Z",
     "shell.execute_reply.started": "2023-05-21T12:28:00.284554Z"
    }
   },
   "outputs": [],
   "source": [
    "epochs = 100\n",
    "batch_size = 128\n",
    "train_steps = X_train.shape[0] // batch_size\n",
    "valid_steps = X_test.shape[0] // batch_size\n",
    "\n",
    "es = keras.callbacks.EarlyStopping(\n",
    "        monitor=\"val_acc\", # metrics to monitor\n",
    "        patience=10, # how many epochs before stop\n",
    "        verbose=1,\n",
    "        mode=\"max\", # we need the maximum accuracy.\n",
    "        restore_best_weights=True, # \n",
    "     )\n",
    "\n",
    "rp = keras.callbacks.ReduceLROnPlateau(\n",
    "        monitor=\"val_acc\",\n",
    "        factor=0.2,\n",
    "        patience=3,\n",
    "        verbose=1,\n",
    "        mode=\"max\",\n",
    "        min_lr=0.00001,\n",
    "     )"
   ]
  },
  {
   "cell_type": "code",
   "execution_count": 18,
   "metadata": {
    "execution": {
     "iopub.execute_input": "2023-05-21T12:28:00.295494Z",
     "iopub.status.busy": "2023-05-21T12:28:00.295058Z",
     "iopub.status.idle": "2023-05-21T12:33:50.037904Z",
     "shell.execute_reply": "2023-05-21T12:33:50.035698Z",
     "shell.execute_reply.started": "2023-05-21T12:28:00.295320Z"
    }
   },
   "outputs": [
    {
     "name": "stdout",
     "output_type": "stream",
     "text": [
      "Epoch 1/100\n",
      "295/295 [==============================] - 15s 50ms/step - loss: 0.1616 - acc: 0.9503 - val_loss: 0.1335 - val_acc: 0.9612\n",
      "Epoch 2/100\n",
      "295/295 [==============================] - 11s 37ms/step - loss: 0.0633 - acc: 0.9815 - val_loss: 0.0595 - val_acc: 0.9823\n",
      "Epoch 3/100\n",
      "295/295 [==============================] - 11s 37ms/step - loss: 0.0498 - acc: 0.9844 - val_loss: 0.0923 - val_acc: 0.9715\n",
      "Epoch 4/100\n",
      "295/295 [==============================] - 12s 39ms/step - loss: 0.0458 - acc: 0.9858 - val_loss: 0.0464 - val_acc: 0.9838\n",
      "Epoch 5/100\n",
      "295/295 [==============================] - 11s 37ms/step - loss: 0.0391 - acc: 0.9878 - val_loss: 0.0559 - val_acc: 0.9833\n",
      "Epoch 6/100\n",
      "295/295 [==============================] - 11s 37ms/step - loss: 0.0337 - acc: 0.9900 - val_loss: 0.0353 - val_acc: 0.9889\n",
      "Epoch 7/100\n",
      "295/295 [==============================] - 12s 40ms/step - loss: 0.0315 - acc: 0.9900 - val_loss: 0.0438 - val_acc: 0.9892\n",
      "Epoch 8/100\n",
      "295/295 [==============================] - 11s 38ms/step - loss: 0.0359 - acc: 0.9885 - val_loss: 0.0685 - val_acc: 0.9786\n",
      "Epoch 9/100\n",
      "295/295 [==============================] - 11s 37ms/step - loss: 0.0283 - acc: 0.9911 - val_loss: 0.0467 - val_acc: 0.9870\n",
      "Epoch 10/100\n",
      "295/295 [==============================] - 12s 39ms/step - loss: 0.0270 - acc: 0.9917 - val_loss: 0.0358 - val_acc: 0.9907\n",
      "Epoch 11/100\n",
      "295/295 [==============================] - 11s 37ms/step - loss: 0.0240 - acc: 0.9925 - val_loss: 0.0317 - val_acc: 0.9889\n",
      "Epoch 12/100\n",
      "295/295 [==============================] - 11s 37ms/step - loss: 0.0223 - acc: 0.9933 - val_loss: 0.0310 - val_acc: 0.9899\n",
      "Epoch 13/100\n",
      "295/295 [==============================] - 11s 38ms/step - loss: 0.0237 - acc: 0.9924 - val_loss: 0.0508 - val_acc: 0.9877\n",
      "\n",
      "Epoch 00013: ReduceLROnPlateau reducing learning rate to 0.00020000000949949026.\n",
      "Epoch 14/100\n",
      "295/295 [==============================] - 11s 37ms/step - loss: 0.0136 - acc: 0.9957 - val_loss: 0.0215 - val_acc: 0.9939\n",
      "Epoch 15/100\n",
      "295/295 [==============================] - 12s 39ms/step - loss: 0.0099 - acc: 0.9970 - val_loss: 0.0208 - val_acc: 0.9944\n",
      "Epoch 16/100\n",
      "295/295 [==============================] - 11s 38ms/step - loss: 0.0087 - acc: 0.9973 - val_loss: 0.0129 - val_acc: 0.9956\n",
      "Epoch 17/100\n",
      "295/295 [==============================] - 11s 38ms/step - loss: 0.0068 - acc: 0.9976 - val_loss: 0.0223 - val_acc: 0.9931\n",
      "Epoch 18/100\n",
      "295/295 [==============================] - 12s 39ms/step - loss: 0.0083 - acc: 0.9978 - val_loss: 0.0224 - val_acc: 0.9941\n",
      "Epoch 19/100\n",
      "295/295 [==============================] - 11s 37ms/step - loss: 0.0071 - acc: 0.9976 - val_loss: 0.0164 - val_acc: 0.9946\n",
      "\n",
      "Epoch 00019: ReduceLROnPlateau reducing learning rate to 4.0000001899898055e-05.\n",
      "Epoch 20/100\n",
      "295/295 [==============================] - 11s 37ms/step - loss: 0.0055 - acc: 0.9984 - val_loss: 0.0155 - val_acc: 0.9951\n",
      "Epoch 21/100\n",
      "295/295 [==============================] - 12s 40ms/step - loss: 0.0059 - acc: 0.9979 - val_loss: 0.0222 - val_acc: 0.9946\n",
      "Epoch 22/100\n",
      "295/295 [==============================] - 11s 37ms/step - loss: 0.0053 - acc: 0.9983 - val_loss: 0.0134 - val_acc: 0.9948\n",
      "\n",
      "Epoch 00022: ReduceLROnPlateau reducing learning rate to 1e-05.\n",
      "Epoch 23/100\n",
      "295/295 [==============================] - 11s 37ms/step - loss: 0.0055 - acc: 0.9984 - val_loss: 0.0181 - val_acc: 0.9958\n",
      "Epoch 24/100\n",
      "295/295 [==============================] - 12s 39ms/step - loss: 0.0048 - acc: 0.9985 - val_loss: 0.0147 - val_acc: 0.9953\n",
      "Epoch 25/100\n",
      "295/295 [==============================] - 11s 37ms/step - loss: 0.0049 - acc: 0.9986 - val_loss: 0.0174 - val_acc: 0.9944\n",
      "Epoch 26/100\n",
      "295/295 [==============================] - 11s 37ms/step - loss: 0.0046 - acc: 0.9985 - val_loss: 0.0179 - val_acc: 0.9948\n",
      "Epoch 27/100\n",
      "295/295 [==============================] - 12s 39ms/step - loss: 0.0048 - acc: 0.9987 - val_loss: 0.0155 - val_acc: 0.9958\n",
      "Epoch 28/100\n",
      "295/295 [==============================] - 11s 37ms/step - loss: 0.0043 - acc: 0.9987 - val_loss: 0.0144 - val_acc: 0.9966\n",
      "Epoch 29/100\n",
      "295/295 [==============================] - 11s 38ms/step - loss: 0.0040 - acc: 0.9990 - val_loss: 0.0197 - val_acc: 0.9948\n",
      "Epoch 30/100\n",
      "295/295 [==============================] - 11s 38ms/step - loss: 0.0040 - acc: 0.9989 - val_loss: 0.0123 - val_acc: 0.9961\n",
      "Epoch 31/100\n",
      "295/295 [==============================] - 11s 37ms/step - loss: 0.0042 - acc: 0.9989 - val_loss: 0.0171 - val_acc: 0.9953\n",
      "Epoch 32/100\n",
      "295/295 [==============================] - 12s 39ms/step - loss: 0.0045 - acc: 0.9985 - val_loss: 0.0172 - val_acc: 0.9961\n",
      "Epoch 33/100\n",
      "295/295 [==============================] - 11s 37ms/step - loss: 0.0041 - acc: 0.9988 - val_loss: 0.0175 - val_acc: 0.9961\n",
      "Epoch 34/100\n",
      "295/295 [==============================] - 11s 37ms/step - loss: 0.0040 - acc: 0.9986 - val_loss: 0.0155 - val_acc: 0.9958\n",
      "Epoch 35/100\n",
      "295/295 [==============================] - 12s 40ms/step - loss: 0.0047 - acc: 0.9988 - val_loss: 0.0144 - val_acc: 0.9953\n",
      "Epoch 36/100\n",
      "175/295 [================>.............] - ETA: 4s - loss: 0.0046 - acc: 0.9984"
     ]
    }
   ],
   "source": [
    "# Fit the model\n",
    "history = model.fit_generator(train_gen, \n",
    "                              epochs = epochs, \n",
    "                              steps_per_epoch = train_steps,\n",
    "                              validation_data = test_gen,\n",
    "                              validation_steps = valid_steps, \n",
    "                              callbacks=[es, rp])"
   ]
  },
  {
   "cell_type": "markdown",
   "metadata": {},
   "source": [
    "**Plot CNN model**"
   ]
  },
  {
   "cell_type": "code",
   "execution_count": 19,
   "metadata": {
    "execution": {
     "iopub.execute_input": "2023-05-21T12:33:50.043048Z",
     "iopub.status.busy": "2023-05-21T12:33:50.042741Z",
     "iopub.status.idle": "2023-05-21T12:33:51.295025Z",
     "shell.execute_reply": "2023-05-21T12:33:51.293657Z",
     "shell.execute_reply.started": "2023-05-21T12:33:50.042995Z"
    }
   },
   "outputs": [],
   "source": [
    "from keras.utils.vis_utils import plot_model\n",
    "plot_model(model, to_file='CNN_model_arch.png', show_shapes=True, show_layer_names=True)"
   ]
  },
  {
   "cell_type": "markdown",
   "metadata": {},
   "source": [
    "# 4. Evaluate the model\n",
    "## 4.1 Training and validation curves"
   ]
  },
  {
   "cell_type": "code",
   "execution_count": 20,
   "metadata": {
    "execution": {
     "iopub.execute_input": "2023-05-21T12:33:51.297701Z",
     "iopub.status.busy": "2023-05-21T12:33:51.297186Z",
     "iopub.status.idle": "2023-05-21T12:33:51.942539Z",
     "shell.execute_reply": "2023-05-21T12:33:51.941720Z",
     "shell.execute_reply.started": "2023-05-21T12:33:51.297644Z"
    }
   },
   "outputs": [
    {
     "data": {
      "image/png": "[encoded data removed]",
      "text/plain": [
       "<Figure size 1296x720 with 2 Axes>"
      ]
     },
     "metadata": {
      "needs_background": "light"
     },
     "output_type": "display_data"
    }
   ],
   "source": [
    "# Plot the loss and accuracy curves for training and validation \n",
    "fig, ax = plt.subplots(2,1, figsize=(18, 10))\n",
    "ax[0].plot(history.history['loss'], color='b', label=\"Training loss\")\n",
    "ax[0].plot(history.history['val_loss'], color='r', label=\"validation loss\",axes =ax[0])\n",
    "legend = ax[0].legend(loc='best', shadow=True)\n",
    "\n",
    "ax[1].plot(history.history['acc'], color='b', label=\"Training accuracy\")\n",
    "ax[1].plot(history.history['val_acc'], color='r',label=\"Validation accuracy\")\n",
    "legend = ax[1].legend(loc='best', shadow=True)"
   ]
  },
  {
   "cell_type": "markdown",
   "metadata": {},
   "source": [
    "## 4.2 Confusion matrix"
   ]
  },
  {
   "cell_type": "markdown",
   "metadata": {},
   "source": [
    "Confusion matrix can be very helpfull to see your model drawbacks.\n",
    "\n",
    "I plot the confusion matrix of the validation results."
   ]
  },
  {
   "cell_type": "code",
   "execution_count": 21,
   "metadata": {
    "execution": {
     "iopub.execute_input": "2023-05-21T12:33:51.944642Z",
     "iopub.status.busy": "2023-05-21T12:33:51.944086Z",
     "iopub.status.idle": "2023-05-21T12:33:52.958661Z",
     "shell.execute_reply": "2023-05-21T12:33:52.957783Z",
     "shell.execute_reply.started": "2023-05-21T12:33:51.944577Z"
    }
   },
   "outputs": [
    {
     "data": {
      "image/png": "[encoded data removed]",
      "text/plain": [
       "<Figure size 720x720 with 1 Axes>"
      ]
     },
     "metadata": {
      "needs_background": "light"
     },
     "output_type": "display_data"
    }
   ],
   "source": [
    "fig = plt.figure(figsize=(10, 10)) # Set Figure\n",
    "\n",
    "y_pred = model.predict(X_test) # Predict class probabilities as 2 => [0.1, 0, 0.9, 0, 0, 0, 0, 0, 0, 0]\n",
    "\n",
    "Y_pred = np.argmax(y_pred, 1) # Decode Predicted labels\n",
    "Y_test = np.argmax(y_test, 1) # Decode labels\n",
    "\n",
    "mat = confusion_matrix(Y_test, Y_pred) # Confusion matrix\n",
    "\n",
    "# Plot Confusion matrix\n",
    "sns.heatmap(mat.T, square=True, annot=True, cbar=False, cmap=plt.cm.Blues, fmt='.0f')\n",
    "plt.xlabel('Predicted Values')\n",
    "plt.ylabel('True Values');\n",
    "plt.show();"
   ]
  },
  {
   "cell_type": "markdown",
   "metadata": {},
   "source": [
    "# 5. Prediction and submition"
   ]
  },
  {
   "cell_type": "markdown",
   "metadata": {},
   "source": [
    "## 5.1 Prediction validation results"
   ]
  },
  {
   "cell_type": "code",
   "execution_count": 22,
   "metadata": {
    "execution": {
     "iopub.execute_input": "2023-05-21T12:33:52.960995Z",
     "iopub.status.busy": "2023-05-21T12:33:52.960303Z",
     "iopub.status.idle": "2023-05-21T12:33:56.126506Z",
     "shell.execute_reply": "2023-05-21T12:33:56.125443Z",
     "shell.execute_reply.started": "2023-05-21T12:33:52.960937Z"
    }
   },
   "outputs": [
    {
     "data": {
      "image/png": "[encoded data removed]",
      "text/plain": [
       "<Figure size 864x1008 with 16 Axes>"
      ]
     },
     "metadata": {
      "needs_background": "light"
     },
     "output_type": "display_data"
    }
   ],
   "source": [
    "y_pred = model.predict(X_test)\n",
    "X_test__ = X_test.reshape(X_test.shape[0], 28, 28)\n",
    "\n",
    "fig, axis = plt.subplots(4, 4, figsize=(12, 14))\n",
    "for i, ax in enumerate(axis.flat):\n",
    "    ax.imshow(X_test__[i], cmap='binary')\n",
    "    ax.set(title = f\"Real Number is {y_test[i].argmax()}\\nPredict Number is {y_pred[i].argmax()}\");"
   ]
  },
  {
   "cell_type": "markdown",
   "metadata": {},
   "source": [
    "## 5.2 Submition"
   ]
  },
  {
   "cell_type": "markdown",
   "metadata": {
    "_uuid": "9949d758f73153835902ba3c87907fee7cfedaa1"
   },
   "source": [
    "**Prediciting test classes**"
   ]
  },
  {
   "cell_type": "code",
   "execution_count": 23,
   "metadata": {
    "_uuid": "afcacfa4a023a9e01a61b5d7dcd051f0a439fa38",
    "execution": {
     "iopub.execute_input": "2023-05-21T12:33:56.135263Z",
     "iopub.status.busy": "2023-05-21T12:33:56.130999Z",
     "iopub.status.idle": "2023-05-21T12:33:57.846582Z",
     "shell.execute_reply": "2023-05-21T12:33:57.845945Z",
     "shell.execute_reply.started": "2023-05-21T12:33:56.135185Z"
    }
   },
   "outputs": [
    {
     "name": "stdout",
     "output_type": "stream",
     "text": [
      "28000/28000 [==============================] - 2s 55us/step\n"
     ]
    }
   ],
   "source": [
    "# preprocess test data\n",
    "test_x = test.values\n",
    "test_x = test_x / 255.0\n",
    "test_x = test_x.reshape(-1,28,28,1)\n",
    "\n",
    "# predict test data\n",
    "pred = model.predict_classes(test_x, verbose=1)"
   ]
  },
  {
   "cell_type": "code",
   "execution_count": 24,
   "metadata": {
    "execution": {
     "iopub.execute_input": "2023-05-21T12:33:57.848155Z",
     "iopub.status.busy": "2023-05-21T12:33:57.847855Z",
     "iopub.status.idle": "2023-05-21T12:33:58.178785Z",
     "shell.execute_reply": "2023-05-21T12:33:58.176695Z",
     "shell.execute_reply.started": "2023-05-21T12:33:57.848104Z"
    }
   },
   "outputs": [
    {
     "data": {
      "text/html": [
       "<div>\n",
       "<style scoped>\n",
       "    .dataframe tbody tr th:only-of-type {\n",
       "        vertical-align: middle;\n",
       "    }\n",
       "\n",
       "    .dataframe tbody tr th {\n",
       "        vertical-align: top;\n",
       "    }\n",
       "\n",
       "    .dataframe thead th {\n",
       "        text-align: right;\n",
       "    }\n",
       "</style>\n",
       "<table border=\"1\" class=\"dataframe\">\n",
       "  <thead>\n",
       "    <tr style=\"text-align: right;\">\n",
       "      <th></th>\n",
       "      <th>ImageId</th>\n",
       "      <th>Label</th>\n",
       "    </tr>\n",
       "  </thead>\n",
       "  <tbody>\n",
       "    <tr>\n",
       "      <th>0</th>\n",
       "      <td>1</td>\n",
       "      <td>2</td>\n",
       "    </tr>\n",
       "    <tr>\n",
       "      <th>1</th>\n",
       "      <td>2</td>\n",
       "      <td>0</td>\n",
       "    </tr>\n",
       "    <tr>\n",
       "      <th>2</th>\n",
       "      <td>3</td>\n",
       "      <td>9</td>\n",
       "    </tr>\n",
       "    <tr>\n",
       "      <th>3</th>\n",
       "      <td>4</td>\n",
       "      <td>0</td>\n",
       "    </tr>\n",
       "    <tr>\n",
       "      <th>4</th>\n",
       "      <td>5</td>\n",
       "      <td>3</td>\n",
       "    </tr>\n",
       "  </tbody>\n",
       "</table>\n",
       "</div>"
      ],
      "text/plain": [
       "   ImageId  Label\n",
       "0        1      2\n",
       "1        2      0\n",
       "2        3      9\n",
       "3        4      0\n",
       "4        5      3"
      ]
     },
     "execution_count": 24,
     "metadata": {},
     "output_type": "execute_result"
    }
   ],
   "source": [
    "# submissions\n",
    "sub['Label'] = pred\n",
    "sub.to_csv(\"CNN_keras_sub.csv\", index=False)\n",
    "sub.head()"
   ]
  },
  {
   "cell_type": "markdown",
   "metadata": {},
   "source": [
    "# 6. References\n",
    "\n",
    "1. https://keras.io/models/sequential/\n",
    "2. https://keras.io/layers/core/\n",
    "3. https://keras.io/layers/convolutional/\n",
    "4. https://keras.io/layers/pooling/\n",
    "5. https://www.kaggle.com/yassineghouzam/introduction-to-cnn-keras-0-997-top-6\n",
    "6. https://keras.io/api/callbacks/early_stopping/\n",
    "7. https://keras.io/api/callbacks/reduce_lr_on_plateau/"
   ]
  },
  {
   "cell_type": "markdown",
   "metadata": {},
   "source": [
    "# 7. Sklearn Soluation"
   ]
  },
  {
   "cell_type": "markdown",
   "metadata": {},
   "source": [
    "You can find out anthor soluation using simple model sklearn \"Random Forest Classifier\" with more than 94.5% accuracy here on this link **<a href='https://www.kaggle.com/elcaiseri/mnist-simple-sklearn-model-95-accuracy'>MNIST: Simple Sklearn Model</a>**"
   ]
  },
  {
   "cell_type": "markdown",
   "metadata": {},
   "source": [
    "### Finally,  **<span style='color:red;'>UPVOTE</span>**  this kernel if you found it useful, feel free in comments."
   ]
  },
  {
   "cell_type": "code",
   "execution_count": null,
   "metadata": {},
   "outputs": [],
   "source": []
  }
 ],
 "metadata": {
  "kernelspec": {
   "display_name": "Python 3",
   "language": "python",
   "name": "python3"
  },
  "language_info": {
   "codemirror_mode": {
    "name": "ipython",
    "version": 3
   },
   "file_extension": ".py",
   "mimetype": "text/x-python",
   "name": "python",
   "nbconvert_exporter": "python",
   "pygments_lexer": "ipython3",
   "version": "3.6.6"
  }
 },
 "nbformat": 4,
 "nbformat_minor": 4
}
